{
 "cells": [
  {
   "cell_type": "code",
   "execution_count": 17,
   "metadata": {},
   "outputs": [],
   "source": [
    "from keras.optimizers import RMSprop\n",
    "from keras.preprocessing.image import ImageDataGenerator\n",
    "import cv2\n",
    "from keras.models import Sequential\n",
    "from keras.layers import Conv2D, Input, ZeroPadding2D, BatchNormalization, Activation, MaxPooling2D, Flatten, Dense,Dropout\n",
    "from keras.models import Model, load_model\n",
    "from keras.callbacks import TensorBoard, ModelCheckpoint\n",
    "from sklearn.model_selection import train_test_split\n",
    "from sklearn.metrics import f1_score\n",
    "from sklearn.utils import shuffle\n",
    "import imutils\n",
    "import numpy as np"
   ]
  },
  {
   "cell_type": "code",
   "execution_count": 18,
   "metadata": {},
   "outputs": [],
   "source": [
    "model =Sequential([\n",
    "    Conv2D(100, (3,3), activation='relu', input_shape=(150, 150, 3)),\n",
    "    MaxPooling2D(2,2),\n",
    "    \n",
    "    Conv2D(100, (3,3), activation='relu'),\n",
    "    MaxPooling2D(2,2),\n",
    "    \n",
    "    Flatten(),\n",
    "    Dropout(0.5),\n",
    "    Dense(50, activation='relu'),\n",
    "    Dense(2, activation='softmax')\n",
    "])"
   ]
  },
  {
   "cell_type": "code",
   "execution_count": 19,
   "metadata": {},
   "outputs": [],
   "source": [
    "model.compile(optimizer='adam', loss='binary_crossentropy', metrics=['acc'])\n"
   ]
  },
  {
   "cell_type": "code",
   "execution_count": 20,
   "metadata": {},
   "outputs": [],
   "source": [
    "TRAINING_DIR = \"./train\""
   ]
  },
  {
   "cell_type": "code",
   "execution_count": 21,
   "metadata": {},
   "outputs": [],
   "source": [
    "train_datagen = ImageDataGenerator(rescale=1.0/255,\n",
    "                                   rotation_range=40,\n",
    "                                   width_shift_range=0.2,\n",
    "                                   height_shift_range=0.2,\n",
    "                                   shear_range=0.2,\n",
    "                                   zoom_range=0.2,\n",
    "                                   horizontal_flip=True,\n",
    "                                   fill_mode='nearest')\n"
   ]
  },
  {
   "cell_type": "code",
   "execution_count": 22,
   "metadata": {},
   "outputs": [
    {
     "name": "stdout",
     "output_type": "stream",
     "text": [
      "Found 1314 images belonging to 2 classes.\n"
     ]
    }
   ],
   "source": [
    "train_generator = train_datagen.flow_from_directory(TRAINING_DIR, \n",
    "                                                    batch_size=10, \n",
    "                                                    target_size=(150, 150))"
   ]
  },
  {
   "cell_type": "code",
   "execution_count": 23,
   "metadata": {},
   "outputs": [],
   "source": [
    "VALIDATION_DIR = \"./test\""
   ]
  },
  {
   "cell_type": "code",
   "execution_count": 24,
   "metadata": {},
   "outputs": [],
   "source": [
    "validation_datagen = ImageDataGenerator(rescale=1.0/255)"
   ]
  },
  {
   "cell_type": "code",
   "execution_count": 25,
   "metadata": {},
   "outputs": [
    {
     "name": "stdout",
     "output_type": "stream",
     "text": [
      "Found 194 images belonging to 2 classes.\n"
     ]
    }
   ],
   "source": [
    "validation_generator = validation_datagen.flow_from_directory(VALIDATION_DIR, \n",
    "                                                         batch_size=10, \n",
    "                                                         target_size=(150, 150))"
   ]
  },
  {
   "cell_type": "code",
   "execution_count": 26,
   "metadata": {},
   "outputs": [],
   "source": [
    "checkpoint = ModelCheckpoint('model2-{epoch:03d}.model',monitor='val_loss',verbose=0,save_best_only=True,mode='auto')\n",
    "\n"
   ]
  },
  {
   "cell_type": "code",
   "execution_count": 27,
   "metadata": {},
   "outputs": [
    {
     "name": "stdout",
     "output_type": "stream",
     "text": [
      "Epoch 1/15\n",
      "132/132 [==============================] - 249s 2s/step - loss: 0.5432 - acc: 0.7454 - val_loss: 0.2071 - val_acc: 0.9485\n",
      "Epoch 2/15\n",
      "132/132 [==============================] - 257s 2s/step - loss: 0.3354 - acc: 0.8848 - val_loss: 0.1709 - val_acc: 0.9485\n",
      "Epoch 3/15\n",
      "132/132 [==============================] - 267s 2s/step - loss: 0.2890 - acc: 0.8985 - val_loss: 0.0907 - val_acc: 0.9639\n",
      "Epoch 4/15\n",
      "132/132 [==============================] - 264s 2s/step - loss: 0.2741 - acc: 0.9038 - val_loss: 0.2046 - val_acc: 0.9175\n",
      "Epoch 5/15\n",
      "132/132 [==============================] - 268s 2s/step - loss: 0.2402 - acc: 0.9151 - val_loss: 0.0701 - val_acc: 0.9639\n",
      "Epoch 6/15\n",
      "132/132 [==============================] - 275s 2s/step - loss: 0.2530 - acc: 0.9008 - val_loss: 0.1035 - val_acc: 0.9742\n",
      "Epoch 7/15\n",
      "132/132 [==============================] - 266s 2s/step - loss: 0.2199 - acc: 0.9193 - val_loss: 0.1301 - val_acc: 0.9330\n",
      "Epoch 8/15\n",
      "132/132 [==============================] - 280s 2s/step - loss: 0.2316 - acc: 0.9197 - val_loss: 0.0953 - val_acc: 0.9691\n",
      "Epoch 9/15\n",
      "132/132 [==============================] - 258s 2s/step - loss: 0.2296 - acc: 0.9144 - val_loss: 0.1216 - val_acc: 0.9691\n",
      "Epoch 10/15\n",
      "132/132 [==============================] - 246s 2s/step - loss: 0.1914 - acc: 0.9318 - val_loss: 0.0972 - val_acc: 0.9536\n",
      "Epoch 11/15\n",
      "132/132 [==============================] - 267s 2s/step - loss: 0.1899 - acc: 0.9280 - val_loss: 0.0827 - val_acc: 0.9639\n",
      "Epoch 12/15\n",
      "132/132 [==============================] - 209s 2s/step - loss: 0.1877 - acc: 0.9333 - val_loss: 0.0772 - val_acc: 0.9536\n",
      "Epoch 13/15\n",
      "132/132 [==============================] - 226s 2s/step - loss: 0.1638 - acc: 0.9477 - val_loss: 0.0388 - val_acc: 0.9845\n",
      "Epoch 14/15\n",
      "132/132 [==============================] - 233s 2s/step - loss: 0.1546 - acc: 0.9318 - val_loss: 0.1124 - val_acc: 0.9485\n",
      "Epoch 15/15\n",
      "132/132 [==============================] - 239s 2s/step - loss: 0.1747 - acc: 0.9311 - val_loss: 0.1452 - val_acc: 0.9227\n"
     ]
    }
   ],
   "source": [
    "history = model.fit_generator(train_generator,steps_per_epoch=len(train_generator),\n",
    "                              epochs=15,\n",
    "                              validation_data=validation_generator,validation_steps = len(validation_generator),\n",
    "                              callbacks=[checkpoint])"
   ]
  },
  {
   "cell_type": "code",
   "execution_count": null,
   "metadata": {},
   "outputs": [],
   "source": []
  }
 ],
 "metadata": {
  "kernelspec": {
   "display_name": "Python 3",
   "language": "python",
   "name": "python3"
  },
  "language_info": {
   "codemirror_mode": {
    "name": "ipython",
    "version": 3
   },
   "file_extension": ".py",
   "mimetype": "text/x-python",
   "name": "python",
   "nbconvert_exporter": "python",
   "pygments_lexer": "ipython3",
   "version": "3.7.4"
  }
 },
 "nbformat": 4,
 "nbformat_minor": 2
}
